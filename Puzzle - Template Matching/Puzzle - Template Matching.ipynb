{
 "cells": [
  {
   "cell_type": "markdown",
   "id": "a0858257",
   "metadata": {},
   "source": [
    "# Template Matching - OpenCV"
   ]
  },
  {
   "cell_type": "code",
   "execution_count": 1,
   "id": "025aa90b",
   "metadata": {},
   "outputs": [],
   "source": [
    "import cv2\n",
    "import numpy as np"
   ]
  },
  {
   "cell_type": "markdown",
   "id": "460c6c41",
   "metadata": {},
   "source": [
    "# Load our images\n",
    "* Our main image from our camera feed game whatever\n",
    "* Image we are searching for inside the main image"
   ]
  },
  {
   "cell_type": "code",
   "execution_count": 2,
   "id": "21cf394f",
   "metadata": {},
   "outputs": [],
   "source": [
    "penguin = cv2.imread(\"penguin.png\", cv2.IMREAD_UNCHANGED)"
   ]
  },
  {
   "cell_type": "markdown",
   "id": "a65b5a07",
   "metadata": {},
   "source": [
    "## Show our Main Image"
   ]
  },
  {
   "cell_type": "code",
   "execution_count": 4,
   "id": "b49bc3d4",
   "metadata": {},
   "outputs": [],
   "source": [
    "cv2.imshow(\"Image\", penguin)\n",
    "cv2.waitKey()\n",
    "cv2.destroyAllWindows()"
   ]
  },
  {
   "cell_type": "markdown",
   "id": "f5d104f5",
   "metadata": {},
   "source": [
    "## Show Search Image"
   ]
  },
  {
   "cell_type": "code",
   "execution_count": 5,
   "id": "96a268f7",
   "metadata": {},
   "outputs": [],
   "source": [
    "penguin_head = cv2.imread(\"penguin_head.png\", cv2.IMREAD_UNCHANGED)"
   ]
  },
  {
   "cell_type": "code",
   "execution_count": 6,
   "id": "78dd1557",
   "metadata": {},
   "outputs": [],
   "source": [
    "cv2.imshow(\"Image\", penguin_head)\n",
    "cv2.waitKey()\n",
    "cv2.destroyAllWindows()"
   ]
  },
  {
   "cell_type": "markdown",
   "id": "febbb997",
   "metadata": {},
   "source": [
    "## Template Matching\n",
    "* There are 6 comparison methods\n",
    "* 1. TM_CCOEFF\n",
    "* 2. TM_CCOEFF_NORMED\n",
    "* 3. TM_CCORR\n",
    "* 4. TM_CCORR_NORMED\n",
    "* 5. TM_SQDIFF\n",
    "* 6. TM_SQDIFF_NORMED\n",
    "\n",
    "* OpenCV Template Matching Docs : https://docs.opencv.org/master/d4/dc6/tutorial_py_template_matching.html"
   ]
  },
  {
   "cell_type": "code",
   "execution_count": 7,
   "id": "f5865633",
   "metadata": {},
   "outputs": [],
   "source": [
    "# There are 6 comparison methods to choose from:\n",
    "# TM_CCOEFF, TM_CCOEFF_NORMED, TM_CCORR, TM_CCORR_NORMED, TM_SQDIFF, TM_SQDIFF_NORMED\n",
    "# You can see the differences at a glance here:\n",
    "# https://docs.opencv.org/master/d4/dc6/tutorial_py_template_matching.html\n",
    "\n",
    "result = cv2.matchTemplate(penguin, penguin_head, cv2.TM_CCOEFF_NORMED)"
   ]
  },
  {
   "cell_type": "markdown",
   "id": "77657d46",
   "metadata": {},
   "source": [
    "## View Result"
   ]
  },
  {
   "cell_type": "code",
   "execution_count": 8,
   "id": "1c289dd6",
   "metadata": {},
   "outputs": [],
   "source": [
    "cv2.imshow('Result', result)\n",
    "cv2.waitKey()\n",
    "cv2.destroyAllWindows()"
   ]
  },
  {
   "cell_type": "markdown",
   "id": "d78cef17",
   "metadata": {},
   "source": [
    "## Get Max Result"
   ]
  },
  {
   "cell_type": "code",
   "execution_count": 9,
   "id": "5b4c24fd",
   "metadata": {},
   "outputs": [],
   "source": [
    "min_val, max_val, min_loc, max_loc = cv2.minMaxLoc(result)"
   ]
  },
  {
   "cell_type": "code",
   "execution_count": 10,
   "id": "986ef06c",
   "metadata": {},
   "outputs": [
    {
     "data": {
      "text/plain": [
       "(393, 123)"
      ]
     },
     "execution_count": 10,
     "metadata": {},
     "output_type": "execute_result"
    }
   ],
   "source": [
    "max_loc"
   ]
  },
  {
   "cell_type": "code",
   "execution_count": 11,
   "id": "a6b5a2b2",
   "metadata": {},
   "outputs": [
    {
     "data": {
      "text/plain": [
       "0.8753829002380371"
      ]
     },
     "execution_count": 11,
     "metadata": {},
     "output_type": "execute_result"
    }
   ],
   "source": [
    "max_val"
   ]
  },
  {
   "cell_type": "markdown",
   "id": "79e6aa26",
   "metadata": {},
   "source": [
    "## Paint Square on Main Image"
   ]
  },
  {
   "cell_type": "code",
   "execution_count": 12,
   "id": "cf09385c",
   "metadata": {},
   "outputs": [],
   "source": [
    "h = penguin_head.shape[0]\n",
    "w = penguin_head.shape[1]"
   ]
  },
  {
   "cell_type": "code",
   "execution_count": 13,
   "id": "a319ab97",
   "metadata": {},
   "outputs": [
    {
     "data": {
      "text/plain": [
       "array([[[216, 202, 196, 255],\n",
       "        [217, 203, 197, 255],\n",
       "        [217, 203, 197, 255],\n",
       "        ...,\n",
       "        [204, 189, 180, 255],\n",
       "        [203, 188, 179, 255],\n",
       "        [203, 188, 179, 255]],\n",
       "\n",
       "       [[216, 202, 196, 255],\n",
       "        [216, 202, 196, 255],\n",
       "        [217, 203, 197, 255],\n",
       "        ...,\n",
       "        [203, 188, 179, 255],\n",
       "        [203, 188, 179, 255],\n",
       "        [203, 188, 179, 255]],\n",
       "\n",
       "       [[217, 201, 195, 255],\n",
       "        [217, 201, 195, 255],\n",
       "        [218, 202, 196, 255],\n",
       "        ...,\n",
       "        [202, 187, 178, 255],\n",
       "        [202, 187, 178, 255],\n",
       "        [202, 187, 178, 255]],\n",
       "\n",
       "       ...,\n",
       "\n",
       "       [[217, 199, 192, 255],\n",
       "        [220, 202, 195, 255],\n",
       "        [221, 203, 196, 255],\n",
       "        ...,\n",
       "        [134, 121, 113, 255],\n",
       "        [174, 157, 148, 255],\n",
       "        [203, 186, 177, 255]],\n",
       "\n",
       "       [[225, 207, 200, 255],\n",
       "        [227, 209, 202, 255],\n",
       "        [227, 209, 202, 255],\n",
       "        ...,\n",
       "        [152, 139, 131, 255],\n",
       "        [160, 145, 136, 255],\n",
       "        [166, 149, 140, 255]],\n",
       "\n",
       "       [[230, 212, 205, 255],\n",
       "        [232, 214, 207, 255],\n",
       "        [231, 213, 206, 255],\n",
       "        ...,\n",
       "        [160, 147, 139, 255],\n",
       "        [156, 141, 132, 255],\n",
       "        [151, 134, 125, 255]]], dtype=uint8)"
      ]
     },
     "execution_count": 13,
     "metadata": {},
     "output_type": "execute_result"
    }
   ],
   "source": [
    "cv2.rectangle(penguin, max_loc, (max_loc[0] + w, max_loc[1] + h), (0,0,255), 3)"
   ]
  },
  {
   "cell_type": "code",
   "execution_count": 14,
   "id": "b9d0a480",
   "metadata": {},
   "outputs": [],
   "source": [
    "cv2.imshow(\"Image\", penguin)\n",
    "cv2.waitKey()\n",
    "cv2.destroyAllWindows()"
   ]
  },
  {
   "cell_type": "markdown",
   "id": "d17b5b8b",
   "metadata": {},
   "source": [
    "## Paint Multiple Squares"
   ]
  },
  {
   "cell_type": "code",
   "execution_count": 15,
   "id": "863f6eb7",
   "metadata": {},
   "outputs": [],
   "source": [
    "penguin = cv2.imread(\"penguin.png\", cv2.IMREAD_UNCHANGED)\n",
    "\n",
    "threshold = 0.50\n",
    "yloc, xloc = np.where(result >= threshold)\n",
    "\n",
    "for x, y in zip(xloc, yloc):\n",
    "    cv2.rectangle(penguin, (x, y), (x + w, y + h), (0,0,255), 2)\n",
    "    \n",
    "\n",
    "cv2.imshow(\"Image\", penguin)\n",
    "cv2.waitKey()\n",
    "cv2.destroyAllWindows()"
   ]
  },
  {
   "cell_type": "markdown",
   "id": "d1fb4ce0",
   "metadata": {},
   "source": [
    "# Puzzle - 1 : Find Odd one out"
   ]
  },
  {
   "cell_type": "code",
   "execution_count": 16,
   "id": "712dcb1b",
   "metadata": {},
   "outputs": [],
   "source": [
    "que = cv2.imread(\"que_1.png\", cv2.IMREAD_UNCHANGED)\n",
    "cv2.imshow(\"Image\", que)\n",
    "cv2.waitKey()\n",
    "cv2.destroyAllWindows()"
   ]
  },
  {
   "cell_type": "code",
   "execution_count": 17,
   "id": "16be2f3b",
   "metadata": {},
   "outputs": [],
   "source": [
    "tmp = cv2.imread(\"tmp_1.png\", cv2.IMREAD_UNCHANGED)\n",
    "cv2.imshow(\"Image\", tmp)\n",
    "cv2.waitKey()\n",
    "cv2.destroyAllWindows()"
   ]
  },
  {
   "cell_type": "code",
   "execution_count": 18,
   "id": "d985c20b",
   "metadata": {},
   "outputs": [],
   "source": [
    "h = tmp.shape[0]\n",
    "w = tmp.shape[1]"
   ]
  },
  {
   "cell_type": "code",
   "execution_count": 19,
   "id": "457f087d",
   "metadata": {},
   "outputs": [],
   "source": [
    "result = cv2.matchTemplate(que, tmp, cv2.TM_CCOEFF_NORMED)"
   ]
  },
  {
   "cell_type": "code",
   "execution_count": 20,
   "id": "cdbe7437",
   "metadata": {},
   "outputs": [],
   "source": [
    "que = cv2.imread(\"que_1.png\", cv2.IMREAD_UNCHANGED)\n",
    "\n",
    "threshold = 0.95\n",
    "yloc, xloc = np.where(result > threshold)\n",
    "\n",
    "for x, y in zip(xloc, yloc):\n",
    "    cv2.rectangle(que, (x, y), (x + w, y + h), (0,0,255), 2)\n",
    "    \n",
    "\n",
    "cv2.imwrite(\"Answer_1.jpg\", que)\n",
    "\n",
    "cv2.imshow(\"Image\", que)\n",
    "cv2.waitKey()\n",
    "cv2.destroyAllWindows()"
   ]
  },
  {
   "cell_type": "markdown",
   "id": "da9cedf8",
   "metadata": {},
   "source": [
    "# Puzzle - 2 : Find Odd one out"
   ]
  },
  {
   "cell_type": "code",
   "execution_count": 30,
   "id": "149ae8da",
   "metadata": {},
   "outputs": [],
   "source": [
    "que = cv2.imread(\"que_2.png\", cv2.IMREAD_UNCHANGED)\n",
    "cv2.imshow(\"Image\", que)\n",
    "cv2.waitKey()\n",
    "cv2.destroyAllWindows()"
   ]
  },
  {
   "cell_type": "code",
   "execution_count": 31,
   "id": "44c03e81",
   "metadata": {},
   "outputs": [],
   "source": [
    "tmp = cv2.imread(\"tmp_2.png\", cv2.IMREAD_UNCHANGED)\n",
    "cv2.imshow(\"Image\", tmp)\n",
    "cv2.waitKey()\n",
    "cv2.destroyAllWindows()"
   ]
  },
  {
   "cell_type": "code",
   "execution_count": 32,
   "id": "45f8efc5",
   "metadata": {},
   "outputs": [],
   "source": [
    "h = tmp.shape[0]\n",
    "w = tmp.shape[1]\n",
    "\n",
    "result = cv2.matchTemplate(que, tmp, cv2.TM_CCOEFF_NORMED)\n",
    "\n",
    "que = cv2.imread(\"que_2.png\", cv2.IMREAD_UNCHANGED)\n",
    "\n",
    "threshold = 0.98\n",
    "yloc, xloc = np.where(result > threshold)\n",
    "\n",
    "for x, y in zip(xloc, yloc):\n",
    "    cv2.rectangle(que, (x, y), (x + w, y + h), (0,0,255), 3)\n",
    "    \n",
    "\n",
    "cv2.imwrite(\"Answer_2.jpg\", que)\n",
    "\n",
    "cv2.imshow(\"Image\", que)\n",
    "cv2.waitKey()\n",
    "cv2.destroyAllWindows()"
   ]
  },
  {
   "cell_type": "markdown",
   "id": "f22717d2",
   "metadata": {},
   "source": [
    "# Puzzle - 3 : Find Odd one out"
   ]
  },
  {
   "cell_type": "code",
   "execution_count": 33,
   "id": "7d72e250",
   "metadata": {},
   "outputs": [],
   "source": [
    "que = cv2.imread(\"que_3.png\", cv2.IMREAD_UNCHANGED)\n",
    "cv2.imshow(\"Image\", que)\n",
    "cv2.waitKey()\n",
    "cv2.destroyAllWindows()"
   ]
  },
  {
   "cell_type": "code",
   "execution_count": 34,
   "id": "6a44637b",
   "metadata": {},
   "outputs": [],
   "source": [
    "tmp = cv2.imread(\"tmp_3.png\", cv2.IMREAD_UNCHANGED)\n",
    "cv2.imshow(\"Image\", tmp)\n",
    "cv2.waitKey()\n",
    "cv2.destroyAllWindows()"
   ]
  },
  {
   "cell_type": "code",
   "execution_count": 35,
   "id": "8517393c",
   "metadata": {},
   "outputs": [],
   "source": [
    "h = tmp.shape[0]\n",
    "w = tmp.shape[1]\n",
    "\n",
    "result = cv2.matchTemplate(que, tmp, cv2.TM_CCOEFF_NORMED)\n",
    "\n",
    "que = cv2.imread(\"que_3.png\", cv2.IMREAD_UNCHANGED)\n",
    "\n",
    "threshold = 0.95\n",
    "yloc, xloc = np.where(result > threshold)\n",
    "\n",
    "for x, y in zip(xloc, yloc):\n",
    "    cv2.rectangle(que, (x, y), (x + w, y + h), (0,0,255), 2)\n",
    "    \n",
    "\n",
    "cv2.imwrite(\"Answer_3.jpg\", que)\n",
    "\n",
    "cv2.imshow(\"Image\", que)\n",
    "cv2.waitKey()\n",
    "cv2.destroyAllWindows()"
   ]
  },
  {
   "cell_type": "code",
   "execution_count": null,
   "id": "d533c45e",
   "metadata": {},
   "outputs": [],
   "source": []
  }
 ],
 "metadata": {
  "kernelspec": {
   "display_name": "Python 3",
   "language": "python",
   "name": "python3"
  },
  "language_info": {
   "codemirror_mode": {
    "name": "ipython",
    "version": 3
   },
   "file_extension": ".py",
   "mimetype": "text/x-python",
   "name": "python",
   "nbconvert_exporter": "python",
   "pygments_lexer": "ipython3",
   "version": "3.6.9"
  }
 },
 "nbformat": 4,
 "nbformat_minor": 5
}
